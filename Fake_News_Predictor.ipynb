{
 "cells": [
  {
   "cell_type": "code",
   "execution_count": 1,
   "metadata": {},
   "outputs": [],
   "source": [
    "import numpy as np\n",
    "import pandas as pd"
   ]
  },
  {
   "cell_type": "code",
   "execution_count": 2,
   "metadata": {},
   "outputs": [],
   "source": [
    "data=pd.read_csv(\"train_news.csv\")"
   ]
  },
  {
   "cell_type": "code",
   "execution_count": 3,
   "metadata": {},
   "outputs": [
    {
     "data": {
      "text/html": [
       "<div>\n",
       "<style scoped>\n",
       "    .dataframe tbody tr th:only-of-type {\n",
       "        vertical-align: middle;\n",
       "    }\n",
       "\n",
       "    .dataframe tbody tr th {\n",
       "        vertical-align: top;\n",
       "    }\n",
       "\n",
       "    .dataframe thead th {\n",
       "        text-align: right;\n",
       "    }\n",
       "</style>\n",
       "<table border=\"1\" class=\"dataframe\">\n",
       "  <thead>\n",
       "    <tr style=\"text-align: right;\">\n",
       "      <th></th>\n",
       "      <th>id</th>\n",
       "      <th>title</th>\n",
       "      <th>author</th>\n",
       "      <th>text</th>\n",
       "      <th>label</th>\n",
       "    </tr>\n",
       "  </thead>\n",
       "  <tbody>\n",
       "    <tr>\n",
       "      <th>0</th>\n",
       "      <td>0</td>\n",
       "      <td>House Dem Aide: We Didn’t Even See Comey’s Let...</td>\n",
       "      <td>Darrell Lucus</td>\n",
       "      <td>House Dem Aide: We Didn’t Even See Comey’s Let...</td>\n",
       "      <td>1</td>\n",
       "    </tr>\n",
       "    <tr>\n",
       "      <th>1</th>\n",
       "      <td>1</td>\n",
       "      <td>FLYNN: Hillary Clinton, Big Woman on Campus - ...</td>\n",
       "      <td>Daniel J. Flynn</td>\n",
       "      <td>Ever get the feeling your life circles the rou...</td>\n",
       "      <td>0</td>\n",
       "    </tr>\n",
       "    <tr>\n",
       "      <th>2</th>\n",
       "      <td>2</td>\n",
       "      <td>Why the Truth Might Get You Fired</td>\n",
       "      <td>Consortiumnews.com</td>\n",
       "      <td>Why the Truth Might Get You Fired October 29, ...</td>\n",
       "      <td>1</td>\n",
       "    </tr>\n",
       "    <tr>\n",
       "      <th>3</th>\n",
       "      <td>3</td>\n",
       "      <td>15 Civilians Killed In Single US Airstrike Hav...</td>\n",
       "      <td>Jessica Purkiss</td>\n",
       "      <td>Videos 15 Civilians Killed In Single US Airstr...</td>\n",
       "      <td>1</td>\n",
       "    </tr>\n",
       "    <tr>\n",
       "      <th>4</th>\n",
       "      <td>4</td>\n",
       "      <td>Iranian woman jailed for fictional unpublished...</td>\n",
       "      <td>Howard Portnoy</td>\n",
       "      <td>Print \\nAn Iranian woman has been sentenced to...</td>\n",
       "      <td>1</td>\n",
       "    </tr>\n",
       "  </tbody>\n",
       "</table>\n",
       "</div>"
      ],
      "text/plain": [
       "   id                                              title              author  \\\n",
       "0   0  House Dem Aide: We Didn’t Even See Comey’s Let...       Darrell Lucus   \n",
       "1   1  FLYNN: Hillary Clinton, Big Woman on Campus - ...     Daniel J. Flynn   \n",
       "2   2                  Why the Truth Might Get You Fired  Consortiumnews.com   \n",
       "3   3  15 Civilians Killed In Single US Airstrike Hav...     Jessica Purkiss   \n",
       "4   4  Iranian woman jailed for fictional unpublished...      Howard Portnoy   \n",
       "\n",
       "                                                text  label  \n",
       "0  House Dem Aide: We Didn’t Even See Comey’s Let...      1  \n",
       "1  Ever get the feeling your life circles the rou...      0  \n",
       "2  Why the Truth Might Get You Fired October 29, ...      1  \n",
       "3  Videos 15 Civilians Killed In Single US Airstr...      1  \n",
       "4  Print \\nAn Iranian woman has been sentenced to...      1  "
      ]
     },
     "execution_count": 3,
     "metadata": {},
     "output_type": "execute_result"
    }
   ],
   "source": [
    "data.head()"
   ]
  },
  {
   "cell_type": "code",
   "execution_count": 4,
   "metadata": {},
   "outputs": [
    {
     "data": {
      "text/plain": [
       "(20800, 5)"
      ]
     },
     "execution_count": 4,
     "metadata": {},
     "output_type": "execute_result"
    }
   ],
   "source": [
    "data.shape"
   ]
  },
  {
   "cell_type": "code",
   "execution_count": 5,
   "metadata": {},
   "outputs": [
    {
     "data": {
      "text/plain": [
       "id           0\n",
       "title      558\n",
       "author    1957\n",
       "text        39\n",
       "label        0\n",
       "dtype: int64"
      ]
     },
     "execution_count": 5,
     "metadata": {},
     "output_type": "execute_result"
    }
   ],
   "source": [
    "data.isnull().sum()"
   ]
  },
  {
   "cell_type": "code",
   "execution_count": 6,
   "metadata": {},
   "outputs": [],
   "source": [
    "data=data.fillna(' ')"
   ]
  },
  {
   "cell_type": "code",
   "execution_count": 7,
   "metadata": {},
   "outputs": [
    {
     "data": {
      "text/plain": [
       "id        0\n",
       "title     0\n",
       "author    0\n",
       "text      0\n",
       "label     0\n",
       "dtype: int64"
      ]
     },
     "execution_count": 7,
     "metadata": {},
     "output_type": "execute_result"
    }
   ],
   "source": [
    "data.isnull().sum()"
   ]
  },
  {
   "cell_type": "code",
   "execution_count": 8,
   "metadata": {},
   "outputs": [
    {
     "data": {
      "text/plain": [
       "(20800, 5)"
      ]
     },
     "execution_count": 8,
     "metadata": {},
     "output_type": "execute_result"
    }
   ],
   "source": [
    "data.shape"
   ]
  },
  {
   "cell_type": "code",
   "execution_count": 9,
   "metadata": {},
   "outputs": [],
   "source": [
    "data[\"tag\"]=data[\"title\"]+data[\"author\"]"
   ]
  },
  {
   "cell_type": "code",
   "execution_count": 10,
   "metadata": {},
   "outputs": [
    {
     "data": {
      "text/html": [
       "<div>\n",
       "<style scoped>\n",
       "    .dataframe tbody tr th:only-of-type {\n",
       "        vertical-align: middle;\n",
       "    }\n",
       "\n",
       "    .dataframe tbody tr th {\n",
       "        vertical-align: top;\n",
       "    }\n",
       "\n",
       "    .dataframe thead th {\n",
       "        text-align: right;\n",
       "    }\n",
       "</style>\n",
       "<table border=\"1\" class=\"dataframe\">\n",
       "  <thead>\n",
       "    <tr style=\"text-align: right;\">\n",
       "      <th></th>\n",
       "      <th>id</th>\n",
       "      <th>title</th>\n",
       "      <th>author</th>\n",
       "      <th>text</th>\n",
       "      <th>label</th>\n",
       "      <th>tag</th>\n",
       "    </tr>\n",
       "  </thead>\n",
       "  <tbody>\n",
       "    <tr>\n",
       "      <th>0</th>\n",
       "      <td>0</td>\n",
       "      <td>House Dem Aide: We Didn’t Even See Comey’s Let...</td>\n",
       "      <td>Darrell Lucus</td>\n",
       "      <td>House Dem Aide: We Didn’t Even See Comey’s Let...</td>\n",
       "      <td>1</td>\n",
       "      <td>House Dem Aide: We Didn’t Even See Comey’s Let...</td>\n",
       "    </tr>\n",
       "  </tbody>\n",
       "</table>\n",
       "</div>"
      ],
      "text/plain": [
       "   id                                              title         author  \\\n",
       "0   0  House Dem Aide: We Didn’t Even See Comey’s Let...  Darrell Lucus   \n",
       "\n",
       "                                                text  label  \\\n",
       "0  House Dem Aide: We Didn’t Even See Comey’s Let...      1   \n",
       "\n",
       "                                                 tag  \n",
       "0  House Dem Aide: We Didn’t Even See Comey’s Let...  "
      ]
     },
     "execution_count": 10,
     "metadata": {},
     "output_type": "execute_result"
    }
   ],
   "source": [
    "data.head(1)"
   ]
  },
  {
   "cell_type": "code",
   "execution_count": 11,
   "metadata": {},
   "outputs": [],
   "source": [
    "data[\"tag\"]=data[\"tag\"].apply(lambda x:x.split())"
   ]
  },
  {
   "cell_type": "code",
   "execution_count": 12,
   "metadata": {},
   "outputs": [
    {
     "data": {
      "text/plain": [
       "['House',\n",
       " 'Dem',\n",
       " 'Aide:',\n",
       " 'We',\n",
       " 'Didn’t',\n",
       " 'Even',\n",
       " 'See',\n",
       " 'Comey’s',\n",
       " 'Letter',\n",
       " 'Until',\n",
       " 'Jason',\n",
       " 'Chaffetz',\n",
       " 'Tweeted',\n",
       " 'ItDarrell',\n",
       " 'Lucus']"
      ]
     },
     "execution_count": 12,
     "metadata": {},
     "output_type": "execute_result"
    }
   ],
   "source": [
    "data[\"tag\"][0]"
   ]
  },
  {
   "cell_type": "code",
   "execution_count": 13,
   "metadata": {},
   "outputs": [],
   "source": [
    "new_data=data[[\"tag\"]+[\"label\"]]"
   ]
  },
  {
   "cell_type": "code",
   "execution_count": 14,
   "metadata": {},
   "outputs": [
    {
     "name": "stderr",
     "output_type": "stream",
     "text": [
      "<ipython-input-14-478cc3a6d433>:1: SettingWithCopyWarning: \n",
      "A value is trying to be set on a copy of a slice from a DataFrame.\n",
      "Try using .loc[row_indexer,col_indexer] = value instead\n",
      "\n",
      "See the caveats in the documentation: https://pandas.pydata.org/pandas-docs/stable/user_guide/indexing.html#returning-a-view-versus-a-copy\n",
      "  new_data[\"tag\"]=new_data[\"tag\"].apply(lambda x:\" \".join(x))\n"
     ]
    }
   ],
   "source": [
    "new_data[\"tag\"]=new_data[\"tag\"].apply(lambda x:\" \".join(x))"
   ]
  },
  {
   "cell_type": "code",
   "execution_count": 15,
   "metadata": {},
   "outputs": [
    {
     "data": {
      "text/plain": [
       "'House Dem Aide: We Didn’t Even See Comey’s Letter Until Jason Chaffetz Tweeted ItDarrell Lucus'"
      ]
     },
     "execution_count": 15,
     "metadata": {},
     "output_type": "execute_result"
    }
   ],
   "source": [
    "new_data[\"tag\"][0]"
   ]
  },
  {
   "cell_type": "code",
   "execution_count": 16,
   "metadata": {},
   "outputs": [
    {
     "name": "stderr",
     "output_type": "stream",
     "text": [
      "<ipython-input-16-3a31da7d470c>:1: SettingWithCopyWarning: \n",
      "A value is trying to be set on a copy of a slice from a DataFrame.\n",
      "Try using .loc[row_indexer,col_indexer] = value instead\n",
      "\n",
      "See the caveats in the documentation: https://pandas.pydata.org/pandas-docs/stable/user_guide/indexing.html#returning-a-view-versus-a-copy\n",
      "  new_data[\"tag\"]=new_data[\"tag\"].apply(lambda x:x.lower())\n"
     ]
    }
   ],
   "source": [
    "new_data[\"tag\"]=new_data[\"tag\"].apply(lambda x:x.lower())"
   ]
  },
  {
   "cell_type": "code",
   "execution_count": 17,
   "metadata": {},
   "outputs": [
    {
     "data": {
      "text/plain": [
       "'house dem aide: we didn’t even see comey’s letter until jason chaffetz tweeted itdarrell lucus'"
      ]
     },
     "execution_count": 17,
     "metadata": {},
     "output_type": "execute_result"
    }
   ],
   "source": [
    "new_data[\"tag\"][0]"
   ]
  },
  {
   "cell_type": "code",
   "execution_count": 18,
   "metadata": {},
   "outputs": [
    {
     "data": {
      "text/html": [
       "<div>\n",
       "<style scoped>\n",
       "    .dataframe tbody tr th:only-of-type {\n",
       "        vertical-align: middle;\n",
       "    }\n",
       "\n",
       "    .dataframe tbody tr th {\n",
       "        vertical-align: top;\n",
       "    }\n",
       "\n",
       "    .dataframe thead th {\n",
       "        text-align: right;\n",
       "    }\n",
       "</style>\n",
       "<table border=\"1\" class=\"dataframe\">\n",
       "  <thead>\n",
       "    <tr style=\"text-align: right;\">\n",
       "      <th></th>\n",
       "      <th>tag</th>\n",
       "      <th>label</th>\n",
       "    </tr>\n",
       "  </thead>\n",
       "  <tbody>\n",
       "    <tr>\n",
       "      <th>0</th>\n",
       "      <td>house dem aide: we didn’t even see comey’s let...</td>\n",
       "      <td>1</td>\n",
       "    </tr>\n",
       "    <tr>\n",
       "      <th>1</th>\n",
       "      <td>flynn: hillary clinton, big woman on campus - ...</td>\n",
       "      <td>0</td>\n",
       "    </tr>\n",
       "    <tr>\n",
       "      <th>2</th>\n",
       "      <td>why the truth might get you firedconsortiumnew...</td>\n",
       "      <td>1</td>\n",
       "    </tr>\n",
       "    <tr>\n",
       "      <th>3</th>\n",
       "      <td>15 civilians killed in single us airstrike hav...</td>\n",
       "      <td>1</td>\n",
       "    </tr>\n",
       "    <tr>\n",
       "      <th>4</th>\n",
       "      <td>iranian woman jailed for fictional unpublished...</td>\n",
       "      <td>1</td>\n",
       "    </tr>\n",
       "  </tbody>\n",
       "</table>\n",
       "</div>"
      ],
      "text/plain": [
       "                                                 tag  label\n",
       "0  house dem aide: we didn’t even see comey’s let...      1\n",
       "1  flynn: hillary clinton, big woman on campus - ...      0\n",
       "2  why the truth might get you firedconsortiumnew...      1\n",
       "3  15 civilians killed in single us airstrike hav...      1\n",
       "4  iranian woman jailed for fictional unpublished...      1"
      ]
     },
     "execution_count": 18,
     "metadata": {},
     "output_type": "execute_result"
    }
   ],
   "source": [
    "new_data.head()"
   ]
  },
  {
   "cell_type": "code",
   "execution_count": 19,
   "metadata": {},
   "outputs": [],
   "source": [
    "import nltk\n",
    "from nltk.stem.porter import PorterStemmer\n",
    "ps=PorterStemmer()\n"
   ]
  },
  {
   "cell_type": "code",
   "execution_count": 20,
   "metadata": {},
   "outputs": [],
   "source": [
    "def stem(text):\n",
    "    y=[]\n",
    "    for i in text.split():\n",
    "        y.append(ps.stem(i))\n",
    "    return \" \".join(y)"
   ]
  },
  {
   "cell_type": "code",
   "execution_count": 21,
   "metadata": {},
   "outputs": [
    {
     "name": "stderr",
     "output_type": "stream",
     "text": [
      "<ipython-input-21-e7e3fc3a43d5>:1: SettingWithCopyWarning: \n",
      "A value is trying to be set on a copy of a slice from a DataFrame.\n",
      "Try using .loc[row_indexer,col_indexer] = value instead\n",
      "\n",
      "See the caveats in the documentation: https://pandas.pydata.org/pandas-docs/stable/user_guide/indexing.html#returning-a-view-versus-a-copy\n",
      "  new_data[\"tag\"]=new_data[\"tag\"].apply(stem)\n"
     ]
    }
   ],
   "source": [
    "new_data[\"tag\"]=new_data[\"tag\"].apply(stem)"
   ]
  },
  {
   "cell_type": "code",
   "execution_count": 22,
   "metadata": {},
   "outputs": [
    {
     "data": {
      "text/plain": [
       "0        hous dem aide: we didn’t even see comey’ lette...\n",
       "1        flynn: hillari clinton, big woman on campu - b...\n",
       "2        whi the truth might get you firedconsortiumnew...\n",
       "3        15 civilian kill in singl us airstrik have bee...\n",
       "4        iranian woman jail for fiction unpublish stori...\n",
       "                               ...                        \n",
       "20795    rapper t.i.: trump a ’poster child for white s...\n",
       "20796    n.f.l. playoffs: schedule, matchup and odd - t...\n",
       "20797    macy’ is said to receiv takeov approach by hud...\n",
       "20798    nato, russia to hold parallel exercis in balka...\n",
       "20799                what keep the f-35 alivedavid swanson\n",
       "Name: tag, Length: 20800, dtype: object"
      ]
     },
     "execution_count": 22,
     "metadata": {},
     "output_type": "execute_result"
    }
   ],
   "source": [
    "new_data[\"tag\"]"
   ]
  },
  {
   "cell_type": "code",
   "execution_count": 23,
   "metadata": {},
   "outputs": [],
   "source": [
    "x=new_data.iloc[:,0]"
   ]
  },
  {
   "cell_type": "code",
   "execution_count": 24,
   "metadata": {},
   "outputs": [],
   "source": [
    "y=new_data.iloc[:,1]"
   ]
  },
  {
   "cell_type": "code",
   "execution_count": 25,
   "metadata": {},
   "outputs": [],
   "source": [
    "from sklearn.feature_extraction.text import CountVectorizer\n",
    "cv=CountVectorizer(max_features=5000,stop_words='english')"
   ]
  },
  {
   "cell_type": "code",
   "execution_count": 26,
   "metadata": {},
   "outputs": [],
   "source": [
    "vectors=cv.fit_transform(x).toarray()"
   ]
  },
  {
   "cell_type": "code",
   "execution_count": 27,
   "metadata": {},
   "outputs": [
    {
     "data": {
      "text/plain": [
       "array([0, 0, 0, ..., 0, 0, 0], dtype=int64)"
      ]
     },
     "execution_count": 27,
     "metadata": {},
     "output_type": "execute_result"
    }
   ],
   "source": [
    "vectors[0]"
   ]
  },
  {
   "cell_type": "code",
   "execution_count": 28,
   "metadata": {},
   "outputs": [
    {
     "data": {
      "text/plain": [
       "['000',\n",
       " '00pm',\n",
       " '01',\n",
       " '10',\n",
       " '100',\n",
       " '1000',\n",
       " '100percentfedup',\n",
       " '101',\n",
       " '11',\n",
       " '12',\n",
       " '13',\n",
       " '14',\n",
       " '15',\n",
       " '150',\n",
       " '16',\n",
       " '17',\n",
       " '18',\n",
       " '19',\n",
       " '1b',\n",
       " '1st',\n",
       " '20',\n",
       " '200',\n",
       " '2006',\n",
       " '2008',\n",
       " '2014',\n",
       " '2015',\n",
       " '2016',\n",
       " '2016henri',\n",
       " '2016lambert',\n",
       " '2016nelli',\n",
       " '2016pakalert',\n",
       " '2017',\n",
       " '2018',\n",
       " '2020',\n",
       " '20k',\n",
       " '20th',\n",
       " '21',\n",
       " '22',\n",
       " '23',\n",
       " '24',\n",
       " '25',\n",
       " '250',\n",
       " '26',\n",
       " '27',\n",
       " '28',\n",
       " '29',\n",
       " '2nd',\n",
       " '30',\n",
       " '300',\n",
       " '31',\n",
       " '33',\n",
       " '35',\n",
       " '36',\n",
       " '3pakalert',\n",
       " '3rd',\n",
       " '40',\n",
       " '400',\n",
       " '41',\n",
       " '42',\n",
       " '43',\n",
       " '44',\n",
       " '45',\n",
       " '47',\n",
       " '4th',\n",
       " '50',\n",
       " '500',\n",
       " '57',\n",
       " '58',\n",
       " '60',\n",
       " '61',\n",
       " '63',\n",
       " '65',\n",
       " '650',\n",
       " '70',\n",
       " '700',\n",
       " '72',\n",
       " '75',\n",
       " '76',\n",
       " '78',\n",
       " '80',\n",
       " '800',\n",
       " '82',\n",
       " '83',\n",
       " '84',\n",
       " '85',\n",
       " '87',\n",
       " '88',\n",
       " '89',\n",
       " '90',\n",
       " '91',\n",
       " '93',\n",
       " '94',\n",
       " '95',\n",
       " '96',\n",
       " '97',\n",
       " '98',\n",
       " '99',\n",
       " '9th',\n",
       " 'aaron',\n",
       " 'abandon',\n",
       " 'abbi',\n",
       " 'abc',\n",
       " 'abduct',\n",
       " 'abe',\n",
       " 'abedin',\n",
       " 'abelson',\n",
       " 'abl',\n",
       " 'abort',\n",
       " 'abov',\n",
       " 'abram',\n",
       " 'abroad',\n",
       " 'absolut',\n",
       " 'absurd',\n",
       " 'abus',\n",
       " 'academ',\n",
       " 'accept',\n",
       " 'access',\n",
       " 'accident',\n",
       " 'accord',\n",
       " 'account',\n",
       " 'accus',\n",
       " 'achiev',\n",
       " 'acknowledg',\n",
       " 'aclu',\n",
       " 'acquit',\n",
       " 'acquitt',\n",
       " 'acr',\n",
       " 'act',\n",
       " 'action',\n",
       " 'activ',\n",
       " 'activist',\n",
       " 'actor',\n",
       " 'actual',\n",
       " 'acuesta',\n",
       " 'ad',\n",
       " 'adam',\n",
       " 'adams',\n",
       " 'add',\n",
       " 'addict',\n",
       " 'address',\n",
       " 'adebayo',\n",
       " 'adelmann',\n",
       " 'adhd',\n",
       " 'adl',\n",
       " 'adler',\n",
       " 'admin',\n",
       " 'administr',\n",
       " 'administration',\n",
       " 'admir',\n",
       " 'admit',\n",
       " 'adopt',\n",
       " 'adult',\n",
       " 'advanc',\n",
       " 'advertis',\n",
       " 'advic',\n",
       " 'advis',\n",
       " 'adviser',\n",
       " 'advisor',\n",
       " 'advoc',\n",
       " 'affair',\n",
       " 'affect',\n",
       " 'affili',\n",
       " 'affirm',\n",
       " 'afford',\n",
       " 'afghan',\n",
       " 'afghanistan',\n",
       " 'afraid',\n",
       " 'africa',\n",
       " 'african',\n",
       " 'aftermath',\n",
       " 'ag',\n",
       " 'age',\n",
       " 'agenc',\n",
       " 'agenda',\n",
       " 'agent',\n",
       " 'aggress',\n",
       " 'ago',\n",
       " 'agorist',\n",
       " 'agre',\n",
       " 'agreement',\n",
       " 'ahead',\n",
       " 'ahm',\n",
       " 'ai',\n",
       " 'aid',\n",
       " 'ail',\n",
       " 'ailes',\n",
       " 'aim',\n",
       " 'air',\n",
       " 'airbag',\n",
       " 'airbnb',\n",
       " 'aircraft',\n",
       " 'airlin',\n",
       " 'airport',\n",
       " 'airstrik',\n",
       " 'akbar',\n",
       " 'al',\n",
       " 'alabama',\n",
       " 'alan',\n",
       " 'alarm',\n",
       " 'alaska',\n",
       " 'album',\n",
       " 'alcindor',\n",
       " 'alcohol',\n",
       " 'alderman',\n",
       " 'alec',\n",
       " 'aleppo',\n",
       " 'alert',\n",
       " 'alex',\n",
       " 'alexand',\n",
       " 'alexandra',\n",
       " 'alexi',\n",
       " 'alfano',\n",
       " 'ali',\n",
       " 'alien',\n",
       " 'aliv',\n",
       " 'allah',\n",
       " 'allahu',\n",
       " 'alleg',\n",
       " 'allegedli',\n",
       " 'allen',\n",
       " 'alli',\n",
       " 'allianc',\n",
       " 'allison',\n",
       " 'allow',\n",
       " 'alon',\n",
       " 'alreadi',\n",
       " 'alt',\n",
       " 'alter',\n",
       " 'altern',\n",
       " 'alternativebeforeitsnews',\n",
       " 'alvarez',\n",
       " 'alway',\n",
       " 'amanda',\n",
       " 'amaz',\n",
       " 'amazon',\n",
       " 'ambassador',\n",
       " 'ambella',\n",
       " 'ambush',\n",
       " 'amend',\n",
       " 'america',\n",
       " 'american',\n",
       " 'americans',\n",
       " 'ami',\n",
       " 'amid',\n",
       " 'amnesti',\n",
       " 'amp',\n",
       " 'américain',\n",
       " 'analyst',\n",
       " 'anand',\n",
       " 'anchor',\n",
       " 'ancient',\n",
       " 'anderson',\n",
       " 'andi',\n",
       " 'andrea',\n",
       " 'andrew',\n",
       " 'angel',\n",
       " 'angela',\n",
       " 'angelina',\n",
       " 'anger',\n",
       " 'anglin',\n",
       " 'angri',\n",
       " 'ani',\n",
       " 'anim',\n",
       " 'ann',\n",
       " 'anna',\n",
       " 'anniversari',\n",
       " 'announc',\n",
       " 'annual',\n",
       " 'anonym',\n",
       " 'anonymous',\n",
       " 'anoth',\n",
       " 'ansari',\n",
       " 'answer',\n",
       " 'anthem',\n",
       " 'anthoni',\n",
       " 'anti',\n",
       " 'antiwar',\n",
       " 'anyon',\n",
       " 'anyth',\n",
       " 'ap',\n",
       " 'apart',\n",
       " 'apocalyps',\n",
       " 'apolog',\n",
       " 'app',\n",
       " 'appeal',\n",
       " 'appear',\n",
       " 'appelbaum',\n",
       " 'appl',\n",
       " 'applaud',\n",
       " 'apple',\n",
       " 'appli',\n",
       " 'applic',\n",
       " 'appoint',\n",
       " 'approach',\n",
       " 'approv',\n",
       " 'april',\n",
       " 'apuzzo',\n",
       " 'aqsa',\n",
       " 'arab',\n",
       " 'arabia',\n",
       " 'arabian',\n",
       " 'arakelian',\n",
       " 'arango',\n",
       " 'architect',\n",
       " 'architectur',\n",
       " 'arctic',\n",
       " 'area',\n",
       " 'aren',\n",
       " 'argument',\n",
       " 'ariel',\n",
       " 'arizona',\n",
       " 'arm',\n",
       " 'armi',\n",
       " 'armstrong',\n",
       " 'army',\n",
       " 'arnold',\n",
       " 'arnoldski',\n",
       " 'arrang',\n",
       " 'arrest',\n",
       " 'arriv',\n",
       " 'arson',\n",
       " 'art',\n",
       " 'articl',\n",
       " 'artifici',\n",
       " 'artist',\n",
       " 'ashley',\n",
       " 'asia',\n",
       " 'asian',\n",
       " 'asid',\n",
       " 'asimov',\n",
       " 'ask',\n",
       " 'asks',\n",
       " 'assad',\n",
       " 'assail',\n",
       " 'assang',\n",
       " 'assange',\n",
       " 'assassin',\n",
       " 'assault',\n",
       " 'assembl',\n",
       " 'asset',\n",
       " 'assist',\n",
       " 'associ',\n",
       " 'asteroid',\n",
       " 'asthma',\n",
       " 'asylum',\n",
       " 'athlet',\n",
       " 'attack',\n",
       " 'attacks',\n",
       " 'attempt',\n",
       " 'attend',\n",
       " 'attent',\n",
       " 'attorney',\n",
       " 'atzmon',\n",
       " 'au',\n",
       " 'audio',\n",
       " 'auf',\n",
       " 'aussi',\n",
       " 'austen',\n",
       " 'australia',\n",
       " 'australian',\n",
       " 'austria',\n",
       " 'author',\n",
       " 'autism',\n",
       " 'auto',\n",
       " 'autopsi',\n",
       " 'avail',\n",
       " 'averag',\n",
       " 'avert',\n",
       " 'aviv',\n",
       " 'avoid',\n",
       " 'await',\n",
       " 'awaken',\n",
       " 'award',\n",
       " 'away',\n",
       " 'awr',\n",
       " 'año',\n",
       " 'babi',\n",
       " 'backer',\n",
       " 'backfir',\n",
       " 'backlash',\n",
       " 'bad',\n",
       " 'badg',\n",
       " 'badger',\n",
       " 'badli',\n",
       " 'bag',\n",
       " 'baghdad',\n",
       " 'bagli',\n",
       " 'bailey',\n",
       " 'bake',\n",
       " 'baker',\n",
       " 'balanc',\n",
       " 'baldwin',\n",
       " 'ball',\n",
       " 'ballist',\n",
       " 'ballot',\n",
       " 'baltimor',\n",
       " 'ban',\n",
       " 'banana',\n",
       " 'band',\n",
       " 'bangladesh',\n",
       " 'banist',\n",
       " 'bank',\n",
       " 'banker',\n",
       " 'banks',\n",
       " 'bannon',\n",
       " 'bar',\n",
       " 'barack',\n",
       " 'barbaro',\n",
       " 'barber',\n",
       " 'barbra',\n",
       " 'bare',\n",
       " 'barenakedislam',\n",
       " 'barn',\n",
       " 'barnard',\n",
       " 'baroud',\n",
       " 'barri',\n",
       " 'barrier',\n",
       " 'barron',\n",
       " 'bas',\n",
       " 'base',\n",
       " 'basebal',\n",
       " 'bash',\n",
       " 'basic',\n",
       " 'basketbal',\n",
       " 'batch',\n",
       " 'bathroom',\n",
       " 'baton',\n",
       " 'batteri',\n",
       " 'battl',\n",
       " 'battle',\n",
       " 'battleground',\n",
       " 'bay',\n",
       " 'bbc',\n",
       " 'beach',\n",
       " 'bear',\n",
       " 'beast',\n",
       " 'beat',\n",
       " 'beaten',\n",
       " 'beauti',\n",
       " 'becam',\n",
       " 'becaus',\n",
       " 'beck',\n",
       " 'becker',\n",
       " 'becom',\n",
       " 'bed',\n",
       " 'bee',\n",
       " 'beer',\n",
       " 'befor',\n",
       " 'beg',\n",
       " 'begin',\n",
       " 'begun',\n",
       " 'behavior',\n",
       " 'behead',\n",
       " 'beheading',\n",
       " 'beijing',\n",
       " 'belgian',\n",
       " 'belgium',\n",
       " 'believ',\n",
       " 'bell',\n",
       " 'belluck',\n",
       " 'belong',\n",
       " 'belson',\n",
       " 'ben',\n",
       " 'benefit',\n",
       " 'benghazi',\n",
       " 'benjamin',\n",
       " 'benner',\n",
       " 'bennett',\n",
       " 'bennhold',\n",
       " 'benson',\n",
       " 'berkeley',\n",
       " 'berkman',\n",
       " 'berlin',\n",
       " 'berni',\n",
       " 'bernish',\n",
       " 'bernstein',\n",
       " 'berri',\n",
       " 'best',\n",
       " 'bet',\n",
       " 'betray',\n",
       " 'betsi',\n",
       " 'better',\n",
       " 'beyoncé',\n",
       " 'bia',\n",
       " 'bias',\n",
       " 'bibl',\n",
       " 'bid',\n",
       " 'biden',\n",
       " 'bidgood',\n",
       " 'big',\n",
       " 'bigger',\n",
       " 'biggest',\n",
       " 'bilefski',\n",
       " 'billi',\n",
       " 'billion',\n",
       " 'billionair',\n",
       " 'bin',\n",
       " 'bind',\n",
       " 'binder',\n",
       " 'binyamin',\n",
       " 'bird',\n",
       " 'birth',\n",
       " 'birthday',\n",
       " 'bishop',\n",
       " 'bison',\n",
       " 'bit',\n",
       " 'bitcoin',\n",
       " 'bitter',\n",
       " 'black',\n",
       " 'blackout',\n",
       " 'blair',\n",
       " 'blake',\n",
       " 'blame',\n",
       " 'blasio',\n",
       " 'blast',\n",
       " 'bless',\n",
       " 'blind',\n",
       " 'blinder',\n",
       " 'blm',\n",
       " 'block',\n",
       " 'blog',\n",
       " 'blogger',\n",
       " 'blood',\n",
       " 'bloodi',\n",
       " 'bloomberg',\n",
       " 'blow',\n",
       " 'blue',\n",
       " 'blues',\n",
       " 'blunt',\n",
       " 'board',\n",
       " 'boast',\n",
       " 'boat',\n",
       " 'bob',\n",
       " 'bodi',\n",
       " 'body',\n",
       " 'boe',\n",
       " 'boehler',\n",
       " 'bofferd',\n",
       " 'boil',\n",
       " 'bokhari',\n",
       " 'boko',\n",
       " 'bolster',\n",
       " 'bolton',\n",
       " 'bomb',\n",
       " 'bomber',\n",
       " 'bombshel',\n",
       " 'bombshell',\n",
       " 'bond',\n",
       " 'book',\n",
       " 'boom',\n",
       " 'boost',\n",
       " 'borden',\n",
       " 'border',\n",
       " 'bori',\n",
       " 'born',\n",
       " 'bosanski',\n",
       " 'bosman',\n",
       " 'boss',\n",
       " 'boston',\n",
       " 'boudett',\n",
       " 'bound',\n",
       " 'bow',\n",
       " 'bowl',\n",
       " 'bowley',\n",
       " 'box',\n",
       " 'boy',\n",
       " 'boycott',\n",
       " 'boyl',\n",
       " 'brace',\n",
       " 'brad',\n",
       " 'bradford',\n",
       " 'bradi',\n",
       " 'bradsher',\n",
       " 'brady',\n",
       " 'brag',\n",
       " 'brain',\n",
       " 'branch',\n",
       " 'brand',\n",
       " 'brandon',\n",
       " 'brantley',\n",
       " 'brave',\n",
       " 'bray',\n",
       " 'brazil',\n",
       " 'breach',\n",
       " 'break',\n",
       " 'breaking',\n",
       " 'breast',\n",
       " 'breath',\n",
       " 'breeden',\n",
       " 'breitbart',\n",
       " 'breitbartaaron',\n",
       " 'breitbartadel',\n",
       " 'breitbartalex',\n",
       " 'breitbartallum',\n",
       " 'breitbartap',\n",
       " 'breitbartassemblyman',\n",
       " 'breitbartawr',\n",
       " 'breitbartben',\n",
       " 'breitbartbreitbart',\n",
       " 'breitbartcharl',\n",
       " 'breitbartcharli',\n",
       " 'breitbartchriss',\n",
       " 'breitbartdaniel',\n",
       " 'breitbartdr',\n",
       " 'breitbartdylan',\n",
       " 'breitbartedwin',\n",
       " 'breitbartfr',\n",
       " 'breitbartian',\n",
       " 'breitbartjack',\n",
       " 'breitbartjam',\n",
       " 'breitbartjeff',\n",
       " 'breitbartjerom',\n",
       " 'breitbartjoel',\n",
       " 'breitbartjohn',\n",
       " 'breitbartkatherin',\n",
       " 'breitbartkati',\n",
       " 'breitbartken',\n",
       " 'breitbartkristina',\n",
       " 'breitbartluca',\n",
       " 'breitbartmatthew',\n",
       " 'breitbartmichael',\n",
       " 'breitbartmichel',\n",
       " 'breitbartmilo',\n",
       " 'breitbartn',\n",
       " 'breitbartneil',\n",
       " 'breitbartpam',\n",
       " 'breitbartpenni',\n",
       " 'breitbartrobert',\n",
       " 'breitbartsamuel',\n",
       " 'breitbartsean',\n",
       " 'breitbarttom',\n",
       " 'breitbarttoni',\n",
       " 'breitbarttr',\n",
       " 'breitbartvirginia',\n",
       " 'breitbartwarn',\n",
       " 'brexit',\n",
       " 'brian',\n",
       " 'bribe',\n",
       " 'bric',\n",
       " 'brick',\n",
       " 'bridg',\n",
       " 'brief',\n",
       " 'briefing',\n",
       " 'brigad',\n",
       " 'brilliant',\n",
       " 'bring',\n",
       " 'brink',\n",
       " 'britain',\n",
       " 'british',\n",
       " 'broad',\n",
       " 'broadcast',\n",
       " 'broadway',\n",
       " 'brodi',\n",
       " 'broil',\n",
       " 'broilessteven',\n",
       " 'broke',\n",
       " 'broken',\n",
       " 'bromwich',\n",
       " 'bronx',\n",
       " 'brook',\n",
       " 'brooklyn',\n",
       " 'brooks',\n",
       " 'brother',\n",
       " 'brotherhood',\n",
       " 'brought',\n",
       " 'brown',\n",
       " 'bruc',\n",
       " 'brussel',\n",
       " 'brutal',\n",
       " 'bu',\n",
       " 'bubbl',\n",
       " 'buchanan',\n",
       " 'buckley',\n",
       " 'budget',\n",
       " 'buffalo',\n",
       " 'buffett',\n",
       " 'build',\n",
       " 'buildup',\n",
       " 'built',\n",
       " 'bull',\n",
       " 'bullet',\n",
       " 'bundi',\n",
       " 'burden',\n",
       " 'buri',\n",
       " 'burial',\n",
       " 'burn',\n",
       " 'burns',\n",
       " 'burr',\n",
       " 'bush',\n",
       " 'busi',\n",
       " 'bust',\n",
       " 'busted',\n",
       " 'butter',\n",
       " 'button',\n",
       " 'buy',\n",
       " 'buyer',\n",
       " 'buzz',\n",
       " 'buzzfe',\n",
       " 'bya',\n",
       " 'cabal',\n",
       " 'cabinet',\n",
       " 'cabl',\n",
       " 'cacciola',\n",
       " 'cafe',\n",
       " 'cage',\n",
       " 'cahil',\n",
       " 'cain',\n",
       " 'caitlin',\n",
       " 'caitlyn',\n",
       " 'cake',\n",
       " 'cal',\n",
       " 'calai',\n",
       " 'calcul',\n",
       " 'california',\n",
       " 'callaghan',\n",
       " 'callimachi',\n",
       " 'calm',\n",
       " 'cam',\n",
       " 'came',\n",
       " 'camera',\n",
       " 'camp',\n",
       " 'campaign',\n",
       " 'campbel',\n",
       " 'campu',\n",
       " 'campus',\n",
       " 'canada',\n",
       " 'canadian',\n",
       " 'cancel',\n",
       " 'cancer',\n",
       " 'candid',\n",
       " 'cannabi',\n",
       " 'cap',\n",
       " 'capabl',\n",
       " 'capit',\n",
       " 'capitalism',\n",
       " 'capitol',\n",
       " 'captain',\n",
       " 'captur',\n",
       " 'car',\n",
       " 'caramanica',\n",
       " 'carbon',\n",
       " 'card',\n",
       " 'cardwel',\n",
       " 'care',\n",
       " 'career',\n",
       " 'carey',\n",
       " 'carl',\n",
       " 'carlson',\n",
       " 'carney',\n",
       " 'carol',\n",
       " 'carolina',\n",
       " 'carri',\n",
       " 'carrier',\n",
       " 'carrol',\n",
       " 'carson',\n",
       " 'cartel',\n",
       " 'cartoon',\n",
       " 'cartwright',\n",
       " 'caryn',\n",
       " 'case',\n",
       " 'casey',\n",
       " 'cash',\n",
       " 'cast',\n",
       " 'castl',\n",
       " 'castro',\n",
       " 'casualti',\n",
       " 'cat',\n",
       " 'catastroph',\n",
       " 'catch',\n",
       " 'cathol',\n",
       " 'caucu',\n",
       " 'caught',\n",
       " 'caus',\n",
       " 'cave',\n",
       " 'cb',\n",
       " 'cbs',\n",
       " 'cdc',\n",
       " 'cease',\n",
       " 'celeb',\n",
       " 'celebr',\n",
       " 'cell',\n",
       " 'censor',\n",
       " 'censorship',\n",
       " 'cent',\n",
       " 'center',\n",
       " 'central',\n",
       " 'centuri',\n",
       " 'ceo',\n",
       " 'ceremoni',\n",
       " 'ceylan',\n",
       " 'chaffetz',\n",
       " 'chain',\n",
       " 'chair',\n",
       " 'chairman',\n",
       " 'challeng',\n",
       " 'challenge',\n",
       " 'chamber',\n",
       " 'champion',\n",
       " 'championship',\n",
       " 'chamseddin',\n",
       " 'chan',\n",
       " 'chanc',\n",
       " 'chance',\n",
       " 'chancellor',\n",
       " 'chang',\n",
       " 'change',\n",
       " 'channel',\n",
       " 'chant',\n",
       " 'chao',\n",
       " 'chaos',\n",
       " 'chaotic',\n",
       " 'charact',\n",
       " 'charg',\n",
       " 'chariti',\n",
       " 'charl',\n",
       " 'charleston',\n",
       " 'charli',\n",
       " 'charlott',\n",
       " 'chart',\n",
       " 'charter',\n",
       " 'chase',\n",
       " 'cheap',\n",
       " 'cheat',\n",
       " 'check',\n",
       " 'cheer',\n",
       " 'chef',\n",
       " 'chelsea',\n",
       " 'chemic',\n",
       " 'chen',\n",
       " 'cher',\n",
       " 'chi',\n",
       " 'chicago',\n",
       " 'chicken',\n",
       " 'chief',\n",
       " 'child',\n",
       " 'children',\n",
       " 'chill',\n",
       " 'china',\n",
       " 'chinen',\n",
       " 'chines',\n",
       " 'chip',\n",
       " 'choe',\n",
       " 'choic',\n",
       " 'choice',\n",
       " 'chokshi',\n",
       " 'choos',\n",
       " 'chozick',\n",
       " 'chri',\n",
       " 'christ',\n",
       " 'christi',\n",
       " 'christian',\n",
       " 'christians',\n",
       " 'christie',\n",
       " 'christin',\n",
       " 'christma',\n",
       " 'christoph',\n",
       " 'chronicl',\n",
       " 'chuck',\n",
       " 'church',\n",
       " 'churchwel',\n",
       " 'cia',\n",
       " 'ciccotta',\n",
       " 'cigarett',\n",
       " 'circl',\n",
       " 'circuit',\n",
       " 'cite',\n",
       " 'citi',\n",
       " 'cities',\n",
       " 'citizen',\n",
       " 'citizenship',\n",
       " 'city',\n",
       " 'civil',\n",
       " 'civilian',\n",
       " 'ck',\n",
       " 'cking',\n",
       " 'claim',\n",
       " 'clarey',\n",
       " 'clark',\n",
       " 'clash',\n",
       " 'class',\n",
       " 'classic',\n",
       " 'classifi',\n",
       " 'clean',\n",
       " 'clear',\n",
       " 'cleveland',\n",
       " 'clever',\n",
       " 'click',\n",
       " 'cliff',\n",
       " 'climat',\n",
       " 'climb',\n",
       " 'clinch',\n",
       " 'clinton',\n",
       " 'clintons',\n",
       " 'clintonth',\n",
       " 'clock',\n",
       " 'close',\n",
       " 'closer',\n",
       " 'cloud',\n",
       " 'clown',\n",
       " 'club',\n",
       " 'clue',\n",
       " 'cnn',\n",
       " 'coach',\n",
       " 'coal',\n",
       " 'coalit',\n",
       " 'coast',\n",
       " 'coca',\n",
       " 'cockburn',\n",
       " 'coconut',\n",
       " 'code',\n",
       " 'codesod',\n",
       " 'coffe',\n",
       " 'cohen',\n",
       " 'cohn',\n",
       " 'colarossi',\n",
       " 'colbert',\n",
       " 'cold',\n",
       " 'cole',\n",
       " 'coleman',\n",
       " 'colin',\n",
       " 'collaps',\n",
       " 'collect',\n",
       " 'colleg',\n",
       " 'collid',\n",
       " 'collin',\n",
       " 'collud',\n",
       " 'collus',\n",
       " 'colombia',\n",
       " 'colon',\n",
       " 'color',\n",
       " 'colorado',\n",
       " 'com',\n",
       " 'combat',\n",
       " 'come',\n",
       " 'comedi',\n",
       " 'comedian',\n",
       " 'comey',\n",
       " 'comf',\n",
       " 'comfort',\n",
       " 'comic',\n",
       " 'coming',\n",
       " 'command',\n",
       " 'comment',\n",
       " 'commerci',\n",
       " 'commiss',\n",
       " 'commission',\n",
       " 'commit',\n",
       " 'committe',\n",
       " 'common',\n",
       " 'commun',\n",
       " 'communist',\n",
       " 'community',\n",
       " 'commut',\n",
       " 'compani',\n",
       " 'compar',\n",
       " 'complain',\n",
       " 'complaint',\n",
       " 'complet',\n",
       " 'complex',\n",
       " 'complic',\n",
       " 'comput',\n",
       " 'conceal',\n",
       " 'conced',\n",
       " 'concern',\n",
       " 'concert',\n",
       " 'concess',\n",
       " 'condemn',\n",
       " 'condit',\n",
       " 'conduct',\n",
       " 'confer',\n",
       " 'confess',\n",
       " 'confessor',\n",
       " 'confid',\n",
       " 'confirm',\n",
       " 'confirmed',\n",
       " 'conflict',\n",
       " 'confront',\n",
       " 'confus',\n",
       " 'congratul',\n",
       " 'congress',\n",
       " 'congression',\n",
       " 'congressman',\n",
       " 'connect',\n",
       " 'connecticut',\n",
       " 'connel',\n",
       " 'conscious',\n",
       " 'consequ',\n",
       " 'conserv',\n",
       " 'conservativebeforeitsnews',\n",
       " 'consid',\n",
       " 'consortiumnews',\n",
       " 'conspiraci',\n",
       " 'constant',\n",
       " 'constitut',\n",
       " 'constitution',\n",
       " 'construct',\n",
       " 'consum',\n",
       " 'contact',\n",
       " 'contain',\n",
       " 'contamin',\n",
       " ...]"
      ]
     },
     "execution_count": 28,
     "metadata": {},
     "output_type": "execute_result"
    }
   ],
   "source": [
    "cv.get_feature_names()"
   ]
  },
  {
   "cell_type": "code",
   "execution_count": 29,
   "metadata": {},
   "outputs": [],
   "source": [
    "from sklearn.model_selection import train_test_split"
   ]
  },
  {
   "cell_type": "code",
   "execution_count": 30,
   "metadata": {},
   "outputs": [],
   "source": [
    "x_train,x_test,y_train,y_test=train_test_split(vectors,y,test_size=0.2,random_state=3,stratify=y)"
   ]
  },
  {
   "cell_type": "code",
   "execution_count": 31,
   "metadata": {},
   "outputs": [],
   "source": [
    "from sklearn.ensemble import RandomForestClassifier"
   ]
  },
  {
   "cell_type": "code",
   "execution_count": 32,
   "metadata": {},
   "outputs": [],
   "source": [
    "model=RandomForestClassifier()"
   ]
  },
  {
   "cell_type": "code",
   "execution_count": 33,
   "metadata": {},
   "outputs": [
    {
     "data": {
      "text/plain": [
       "RandomForestClassifier()"
      ]
     },
     "execution_count": 33,
     "metadata": {},
     "output_type": "execute_result"
    }
   ],
   "source": [
    "model.fit(x_train,y_train)"
   ]
  },
  {
   "cell_type": "code",
   "execution_count": 34,
   "metadata": {},
   "outputs": [],
   "source": [
    "predit_train=model.predict(x_train)"
   ]
  },
  {
   "cell_type": "code",
   "execution_count": 35,
   "metadata": {},
   "outputs": [],
   "source": [
    "from sklearn.metrics import accuracy_score"
   ]
  },
  {
   "cell_type": "code",
   "execution_count": 36,
   "metadata": {},
   "outputs": [
    {
     "name": "stdout",
     "output_type": "stream",
     "text": [
      "Accuracy of training data: 1.0\n"
     ]
    }
   ],
   "source": [
    "print(\"Accuracy of training data:\",accuracy_score(predit_train,y_train))"
   ]
  },
  {
   "cell_type": "code",
   "execution_count": 37,
   "metadata": {},
   "outputs": [],
   "source": [
    "predit_test=model.predict(x_test)"
   ]
  },
  {
   "cell_type": "code",
   "execution_count": 38,
   "metadata": {},
   "outputs": [
    {
     "name": "stdout",
     "output_type": "stream",
     "text": [
      "Accuracy of test data: 0.9860576923076924\n"
     ]
    }
   ],
   "source": [
    "print(\"Accuracy of test data:\",accuracy_score(predit_test,y_test))"
   ]
  },
  {
   "cell_type": "code",
   "execution_count": 39,
   "metadata": {},
   "outputs": [],
   "source": [
    "from sklearn.linear_model import LogisticRegression\n",
    "lr=LogisticRegression()"
   ]
  },
  {
   "cell_type": "code",
   "execution_count": 40,
   "metadata": {},
   "outputs": [
    {
     "data": {
      "text/plain": [
       "LogisticRegression()"
      ]
     },
     "execution_count": 40,
     "metadata": {},
     "output_type": "execute_result"
    }
   ],
   "source": [
    "lr.fit(x_train,y_train)"
   ]
  },
  {
   "cell_type": "code",
   "execution_count": 41,
   "metadata": {},
   "outputs": [],
   "source": [
    "predit_train=lr.predict(x_train)"
   ]
  },
  {
   "cell_type": "code",
   "execution_count": 42,
   "metadata": {},
   "outputs": [
    {
     "name": "stdout",
     "output_type": "stream",
     "text": [
      "Accuracy of training data: 0.9948918269230769\n"
     ]
    }
   ],
   "source": [
    "print(\"Accuracy of training data:\",accuracy_score(predit_train,y_train))"
   ]
  },
  {
   "cell_type": "code",
   "execution_count": 43,
   "metadata": {},
   "outputs": [
    {
     "name": "stdout",
     "output_type": "stream",
     "text": [
      "Accuracy of test data: 0.9807692307692307\n"
     ]
    }
   ],
   "source": [
    "predit_test=lr.predict(x_test)\n",
    "print(\"Accuracy of test data:\",accuracy_score(predit_test,y_test))"
   ]
  },
  {
   "cell_type": "code",
   "execution_count": 44,
   "metadata": {},
   "outputs": [],
   "source": [
    "from sklearn.tree import DecisionTreeClassifier\n",
    "de=DecisionTreeClassifier()"
   ]
  },
  {
   "cell_type": "code",
   "execution_count": 45,
   "metadata": {},
   "outputs": [
    {
     "data": {
      "text/plain": [
       "DecisionTreeClassifier()"
      ]
     },
     "execution_count": 45,
     "metadata": {},
     "output_type": "execute_result"
    }
   ],
   "source": [
    "de.fit(x_train,y_train)"
   ]
  },
  {
   "cell_type": "code",
   "execution_count": 46,
   "metadata": {},
   "outputs": [
    {
     "name": "stdout",
     "output_type": "stream",
     "text": [
      "Accuracy of training data: 1.0\n",
      "Accuracy of test data: 0.9838942307692308\n"
     ]
    }
   ],
   "source": [
    "predit_train=de.predict(x_train)\n",
    "print(\"Accuracy of training data:\",accuracy_score(predit_train,y_train))\n",
    "predit_test=de.predict(x_test)\n",
    "print(\"Accuracy of test data:\",accuracy_score(predit_test,y_test))"
   ]
  },
  {
   "cell_type": "markdown",
   "metadata": {},
   "source": [
    "# outcome"
   ]
  },
  {
   "cell_type": "code",
   "execution_count": 47,
   "metadata": {},
   "outputs": [],
   "source": [
    "input_data=x_test[1000]"
   ]
  },
  {
   "cell_type": "code",
   "execution_count": 48,
   "metadata": {},
   "outputs": [],
   "source": [
    "input_array=np.asarray(input_data)"
   ]
  },
  {
   "cell_type": "code",
   "execution_count": 49,
   "metadata": {},
   "outputs": [],
   "source": [
    "input_reshape=input_array.reshape(1,-1)"
   ]
  },
  {
   "cell_type": "code",
   "execution_count": 50,
   "metadata": {},
   "outputs": [
    {
     "name": "stdout",
     "output_type": "stream",
     "text": [
      "[1]\n"
     ]
    }
   ],
   "source": [
    "prediction=lr.predict(input_reshape)\n",
    "print(prediction)"
   ]
  },
  {
   "cell_type": "code",
   "execution_count": 51,
   "metadata": {},
   "outputs": [
    {
     "name": "stdout",
     "output_type": "stream",
     "text": [
      "News Is not FAkE\n"
     ]
    }
   ],
   "source": [
    "if (prediction[0]==0):\n",
    "    print(\"NEWS FAKE\")\n",
    "else:\n",
    "    print(\"News Is not FAkE\")\n",
    "    "
   ]
  },
  {
   "cell_type": "code",
   "execution_count": null,
   "metadata": {},
   "outputs": [],
   "source": []
  },
  {
   "cell_type": "code",
   "execution_count": null,
   "metadata": {},
   "outputs": [],
   "source": []
  }
 ],
 "metadata": {
  "kernelspec": {
   "display_name": "Python 3",
   "language": "python",
   "name": "python3"
  },
  "language_info": {
   "codemirror_mode": {
    "name": "ipython",
    "version": 3
   },
   "file_extension": ".py",
   "mimetype": "text/x-python",
   "name": "python",
   "nbconvert_exporter": "python",
   "pygments_lexer": "ipython3",
   "version": "3.8.3"
  }
 },
 "nbformat": 4,
 "nbformat_minor": 4
}
